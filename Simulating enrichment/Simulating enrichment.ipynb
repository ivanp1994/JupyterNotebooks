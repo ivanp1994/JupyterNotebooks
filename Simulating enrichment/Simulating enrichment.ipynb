{
 "cells": [
  {
   "cell_type": "markdown",
   "id": "0c8e2ebc",
   "metadata": {},
   "source": [
    "# Simulating enrichment\n",
    "\n",
    "This notebook is still under construction "
   ]
  },
  {
   "cell_type": "code",
   "execution_count": 21,
   "id": "b5577851",
   "metadata": {},
   "outputs": [],
   "source": [
    "import pandas as pd\n",
    "import collections\n",
    "\n",
    "#loading data\n",
    "wd=pd.read_csv(\"marked_output.csv\").iloc[1:,]\n",
    "\n"
   ]
  },
  {
   "cell_type": "code",
   "execution_count": 20,
   "id": "8abadfec",
   "metadata": {},
   "outputs": [
    {
     "name": "stdout",
     "output_type": "stream",
     "text": [
      "Cells(marked=0.1, unmarked=0.9)\n",
      "Cells(marked=0.8767123287671232, unmarked=0.12328767123287664)\n",
      "Cells(marked=0.05182667799490228, unmarked=0.9481733220050977)\n"
     ]
    }
   ],
   "source": [
    "\n",
    "\n",
    "cells=collections.namedtuple(\"Cells\",[\"marked\",\"unmarked\"])\n",
    "\n",
    "def simulating_enrichment(initial_perc=0.1,\n",
    "                          e_ability=0.9,\n",
    "                          sorting_time=3, \n",
    "                          initial_number=10**7):\n",
    "    \"\"\"\n",
    "    Simulates (magnetic) enrichment procedure :\n",
    "        Initial_perc is what percentage of cells is marked for enrichment\n",
    "        Initial_number is what total number of cells is\n",
    "        E_ability is enrichment ability (e.g. e_ability of 0.9 will retain 90% of marked, 10% of unmarked cells)\n",
    "        Sorting_time is the amount of times sorting is done iteratively\n",
    "    Returns:\n",
    "        named tuples of \"cells\" type - one \"marked\" value, and one \"unmarked\" value representing cells, respectively\n",
    "        before_sorting ->\"cells\" before sorting\n",
    "        in_epp         ->\"cells\" after enrichment (in eppendorf tube) -> the retained part\n",
    "        in_falcon      ->\"cells\" after enrichment (in falcon) -> the decanted part\n",
    "    \"\"\"\n",
    "    \n",
    "    before_sorting = cells(initial_perc*initial_number , (1-initial_perc)*initial_number)\n",
    "    working_conc = cells(initial_perc*initial_number , (1-initial_perc)*initial_number)\n",
    "    _decanted_list=[]\n",
    "    \n",
    "    for i in range(3):\n",
    "        in_epp = cells(working_conc.marked*e_ability,\n",
    "                       working_conc.unmarked*(1-e_ability))\n",
    "        \n",
    "        decanted = cells(working_conc.marked*(1-e_ability),\n",
    "                         working_conc.unmarked*e_ability)\n",
    "        working_conc=in_epp\n",
    "        _decanted_list.append(decanted)\n",
    "        \n",
    "    dec_marked = [item.marked for item in _decanted_list]\n",
    "    dec_unmarked = [item.unmarked for item in _decanted_list]\n",
    "    dec_marked = sum(dec_marked)\n",
    "    in_falcon = cells (sum([item.marked for item in _decanted_list]),\n",
    "                       sum([item.unmarked for item in _decanted_list]))\n",
    "    return(before_sorting,in_epp, in_falcon)\n",
    "\n",
    "def sum_cells(cells_inst):\n",
    "    \"\"\"\n",
    "    Sums \"cell\" type - sums \"marked\" and \"unmarked\" to the total of cells\n",
    "    \"\"\"\n",
    "    return(cells_inst.marked+cells_inst.unmarked)\n",
    "\n",
    "def normalize_cells(cells_inst):\n",
    "    \"\"\"\n",
    "    Normalizes \"cell\" type so that the value of \"marked\" and \"unmarked\" sums to 1\n",
    "    \"\"\"\n",
    "    normalized_cells = cells(cells_inst.marked/sum_cells(cells_inst),\n",
    "                            cells_inst.unmarked/sum_cells(cells_inst))\n",
    "    return(normalized_cells)\n",
    "    \n",
    "    \n",
    "\n",
    "pm,s,m=simulating_enrichment(e_ability=0.8)\n",
    "\n",
    "def barplot_marked(pm,s,m):\n",
    "    "
   ]
  },
  {
   "cell_type": "code",
   "execution_count": null,
   "id": "3a48d40d",
   "metadata": {},
   "outputs": [],
   "source": []
  }
 ],
 "metadata": {
  "kernelspec": {
   "display_name": "Python 3",
   "language": "python",
   "name": "python3"
  },
  "language_info": {
   "codemirror_mode": {
    "name": "ipython",
    "version": 3
   },
   "file_extension": ".py",
   "mimetype": "text/x-python",
   "name": "python",
   "nbconvert_exporter": "python",
   "pygments_lexer": "ipython3",
   "version": "3.8.10"
  }
 },
 "nbformat": 4,
 "nbformat_minor": 5
}
