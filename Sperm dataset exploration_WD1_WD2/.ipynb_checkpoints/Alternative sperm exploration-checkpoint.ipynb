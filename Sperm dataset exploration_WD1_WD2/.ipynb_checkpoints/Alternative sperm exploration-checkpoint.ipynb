{
 "cells": [
  {
   "cell_type": "markdown",
   "id": "787aa199",
   "metadata": {},
   "source": [
    "# Alternative sperm exploration\n",
    "\n",
    "Several ideas float:\n",
    "\n",
    "- Reduce each sample (biounit) to a singular quantitiy\n",
    "    - This quantity should be a measure of central tendency or dispersion\n",
    "    - For central tendency -> mean, median\n",
    "    - For dispersion -> standard deviation, IQR\n",
    "    - Bonus : skewedness and kurtosis\n",
    "- Create KDE plot for every sample with HUE as replicate to help remove outlying technical replicates\n",
    "- Create ANOVA/KW testing with appropriate post-hoc tests to help identify outlying animals\n"
   ]
  },
  {
   "cell_type": "code",
   "execution_count": 15,
   "id": "fcda247d",
   "metadata": {},
   "outputs": [],
   "source": [
    "import pandas as pd\n",
    "import seaborn as sns\n",
    "from sklearn.utils import resample \n",
    "import pingouin as pg\n",
    "import numpy as np\n",
    "import warnings\n",
    "import ipywidgets as widgets\n",
    "from IPython.display import display\n",
    "import matplotlib.pyplot as plt\n",
    "\n",
    "plt.style.use(\"ggplot\")\n",
    "warnings.filterwarnings(\"ignore\") \n",
    "\n",
    "\n",
    "data = pd.read_csv(\"sperm_experiment.csv\").iloc[:,1:]\n",
    "data = data.loc[data[\"RED-HLin\"]<4000]\n",
    "samples = sorted(list(set(data.Sample)))\n",
    "stat_options = [\"mean\",\"median\",\"std\",\"kurtosis\",\"skew\",\"iqrd\"]\n",
    "\n",
    "#private functions\n",
    "def _mean(series):\n",
    "    return (series.mean())\n",
    "def _median(series):\n",
    "    return(series.median())\n",
    "def _std(series):\n",
    "    return(series.std())\n",
    "def _kurtosis(series):\n",
    "    return(series.kurtosis())\n",
    "def _skew(series):\n",
    "    return(series.skew())\n",
    "def _iqrd(series):\n",
    "    return(series.quantile(.75)-series.quantile(.25))\n",
    "\n",
    "def drawing_kdeplots(sample,**kwargs):\n",
    "    \"\"\"Densityplot of DNA content of a particular sample\"\"\"\n",
    "    fig = plt.Figure(figsize=(10,10))\n",
    "    ax = fig.add_subplot(111)\n",
    "    \n",
    "    if \"column\" in kwargs:\n",
    "        column = kwargs[\"column\"]\n",
    "        if column == \"lin\":\n",
    "            col = \"RED-HLin\"\n",
    "        else:\n",
    "            col = \"RED-HLog\"\n",
    "    else:\n",
    "        col = \"RED-HLin\"\n",
    "    sns.kdeplot(data=data.loc[data.Sample==sample],x=col,hue=\"Replicate\",ax=ax)\n",
    "    display(fig)\n",
    "    \n",
    "def statistic_calculator(statistic=\"mean\",column=\"lin\"):\n",
    "    \"\"\"\n",
    "    statistic - \"mean\",\"median\",\"std\",\"kurtosis\",\"skew\",\"iqrd\"\n",
    "    \"\"\"\n",
    "    _commands = {\"mean\":_mean, \"median\":_median, \"std\":_std,\n",
    "                 \"kurtosis\":_kurtosis, \"skew\":_skew, \"iqrd\":_iqrd\n",
    "                }\n",
    "    if column == \"lin\":\n",
    "        col = \"RED-HLin\"\n",
    "    else:\n",
    "        col = \"RED-HLog\"\n",
    "    \n",
    "    _l = []\n",
    "    for sample in samples:\n",
    "        _df = data.loc[data.Sample==sample].iloc[0,:7].copy()\n",
    "        series = data.loc[data.Sample==sample][col]\n",
    "        stat_value = _commands[statistic](series)\n",
    "        _df[statistic]=stat_value\n",
    "        _l.append(_df)\n",
    "        \n",
    "    statistic_dataframe = pd.concat(_l,axis=1).T\n",
    "    statistic_dataframe.reset_index(inplace=True,drop=True)\n",
    "    statistic_dataframe.drop([\"Replicate\"],axis=1,inplace=True)\n",
    "    statistic_dataframe.rename(columns={\"Name\":\"Experiment\"},inplace=True)\n",
    "    return(statistic_dataframe)\n",
    "\n",
    "def visualizer_statistic(statistic):\n",
    "    \"\"\"Swarmplot and Pointplot of {statistic}\"\"\"\n",
    "    data_t = statistic_calculator(statistic)\n",
    "    fig = plt.Figure(figsize=(15,5))\n",
    "    singular = fig.add_subplot(121)\n",
    "    pooled = fig.add_subplot(122)\n",
    "    singular.set_title(f\"Pointplot for Samples and their {statistic.capitalize()}\")\n",
    "    pooled.set_title(f\"Pointplot for Treatments and their {statistic.capitalize()}\")\n",
    "    sns.swarmplot(data=data_t,x=\"Sample\",y=statistic,hue=\"Treatment\",ax=singular,\n",
    "                 s=10) #<-every sample unique, this is good\n",
    "    sns.pointplot(data=data_t,x=\"Experiment\",hue=\"Treatment\",y=statistic,\n",
    "                  dodge=True,join=False,capsize=.1,ax=pooled) #<-samples pooled, this is also good\n",
    "    display(fig)\n",
    "\n",
    "def testing_statistic(statistic, between, parametric):\n",
    "    \"\"\"Statistical testing of chosen statistic\"\"\"\n",
    "    data_t = statistic_calculator(statistic)\n",
    "    iterator = list(set(data[between]))\n",
    "    first = list(data_t.loc[data_t[between]==iterator[0]][statistic])\n",
    "    second = list(data_t.loc[data_t[between]==iterator[1]][statistic])\n",
    "    if parametric==True:\n",
    "        test = pg.ttest(x=first,y=second,paired=False)\n",
    "    else:\n",
    "        test=pg.mwu(x=first,y=second)\n",
    "    test.insert(0,\"Between\",between)\n",
    "    test.insert(0,\"Based on\",statistic)\n",
    "    display(test)\n",
    "\n",
    "statisticW = widgets.Dropdown(options=stat_options,value=stat_options[0],description=\"Statistic\")\n",
    "betweenW = widgets.Dropdown(options=[\"Treatment\",\"Experiment\"],value=\"Treatment\",description=\"Between\")\n",
    "parametricW = widgets.Checkbox(value=True,description='Parametric',disabled=False,indent=False)\n",
    "samplesW = widgets.Dropdown(options=samples,value=samples[0],description=\"Sample: \")\n"
   ]
  },
  {
   "cell_type": "markdown",
   "id": "41fcef57",
   "metadata": {},
   "source": [
    "# Draw KDE plots of a particular sample"
   ]
  },
  {
   "cell_type": "code",
   "execution_count": 16,
   "id": "969cb88b",
   "metadata": {},
   "outputs": [
    {
     "data": {
      "application/vnd.jupyter.widget-view+json": {
       "model_id": "ee7a99a87cd74eebb7bba09f452f427e",
       "version_major": 2,
       "version_minor": 0
      },
      "text/plain": [
       "interactive(children=(Dropdown(description='Sample: ', options=(55, 56, 57, 58, 60, 87, 88, 89, 90, 91, 92), v…"
      ]
     },
     "metadata": {},
     "output_type": "display_data"
    }
   ],
   "source": [
    "widgets.interactive(drawing_kdeplots,sample=samplesW)"
   ]
  },
  {
   "cell_type": "markdown",
   "id": "9a75e3ba",
   "metadata": {},
   "source": [
    "# Drop the replicates that don't work"
   ]
  },
  {
   "cell_type": "code",
   "execution_count": 17,
   "id": "f481f917",
   "metadata": {},
   "outputs": [
    {
     "name": "stdout",
     "output_type": "stream",
     "text": [
      "['55:1', '55:3', '56:1', '56:2', '57:2', '57:3', '58:1', '58:2', '58:3', '60:1', '60:2', '60:3', '87:1', '87:2', '87:3', '88:1', '88:2', '88:3', '89:1', '89:2', '89:3', '90:2', '90:3', '91:1', '91:2', '91:3', '92:2', '92:3']\n"
     ]
    }
   ],
   "source": [
    "#reps_to_drop = []\n",
    "reps_to_drop = [\"55:2\",\"56:3\",\"57:1\",\"90:1\",\"92:1\"] #<-visualy deduced\n",
    "data=data.loc[~data.Replicate.isin(reps_to_drop)]\n",
    "print(sorted(list(set(data.Replicate))))"
   ]
  },
  {
   "cell_type": "markdown",
   "id": "089c1e68",
   "metadata": {},
   "source": [
    "# Visualize and Test"
   ]
  },
  {
   "cell_type": "code",
   "execution_count": 18,
   "id": "5b7c569e",
   "metadata": {},
   "outputs": [
    {
     "data": {
      "application/vnd.jupyter.widget-view+json": {
       "model_id": "46f56f1468494beca46fcc8b688ea1f9",
       "version_major": 2,
       "version_minor": 0
      },
      "text/plain": [
       "interactive(children=(Dropdown(description='Statistic', options=('mean', 'median', 'std', 'kurtosis', 'skew', …"
      ]
     },
     "metadata": {},
     "output_type": "display_data"
    }
   ],
   "source": [
    "widgets.interactive(visualizer_statistic,statistic=statisticW)"
   ]
  },
  {
   "cell_type": "code",
   "execution_count": 19,
   "id": "9fc180bc",
   "metadata": {},
   "outputs": [
    {
     "data": {
      "application/vnd.jupyter.widget-view+json": {
       "model_id": "b3503853791048ffa5de2d35e6b1142a",
       "version_major": 2,
       "version_minor": 0
      },
      "text/plain": [
       "interactive(children=(Dropdown(description='Statistic', options=('mean', 'median', 'std', 'kurtosis', 'skew', …"
      ]
     },
     "metadata": {},
     "output_type": "display_data"
    }
   ],
   "source": [
    "widgets.interactive(testing_statistic,statistic=statisticW,between=betweenW,parametric=parametricW,)"
   ]
  },
  {
   "cell_type": "code",
   "execution_count": null,
   "id": "d92c71a1",
   "metadata": {},
   "outputs": [],
   "source": []
  }
 ],
 "metadata": {
  "kernelspec": {
   "display_name": "Python 3",
   "language": "python",
   "name": "python3"
  },
  "language_info": {
   "codemirror_mode": {
    "name": "ipython",
    "version": 3
   },
   "file_extension": ".py",
   "mimetype": "text/x-python",
   "name": "python",
   "nbconvert_exporter": "python",
   "pygments_lexer": "ipython3",
   "version": "3.8.10"
  }
 },
 "nbformat": 4,
 "nbformat_minor": 5
}
